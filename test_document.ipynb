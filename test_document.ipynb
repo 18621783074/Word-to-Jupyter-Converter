{
 "cells": [
  {
   "cell_type": "markdown",
   "id": "ab69963b",
   "metadata": {},
   "source": [
    "这是一个用于测试 main.py 脚本功能的综合性文档。\n",
    "1. 基础 Markdown 与代码识别\n",
    "这是一个普通的文本段落，应该被识别为 Markdown。\n",
    "列表项1\n",
    "列表项2\n",
    "这是粗体文本。\n",
    "接下来是一个简单的 Python 代码块："
   ]
  },
  {
   "cell_type": "code",
   "execution_count": 1,
   "id": "70e4a002",
   "metadata": {
    "execution": {
     "iopub.execute_input": "2025-10-16T08:10:42.100460Z",
     "iopub.status.busy": "2025-10-16T08:10:42.100460Z",
     "iopub.status.idle": "2025-10-16T08:10:42.109902Z",
     "shell.execute_reply": "2025-10-16T08:10:42.109902Z"
    }
   },
   "outputs": [
    {
     "name": "stdout",
     "output_type": "stream",
     "text": [
      "Hello, World!\n",
      "The sum of x and y is: 30\n"
     ]
    }
   ],
   "source": [
    "message = \"Hello, World!\"\n",
    "print(message)\n",
    "x = 10\n",
    "y = 20\n",
    "print(f\"The sum of x and y is: {x + y}\")"
   ]
  },
  {
   "cell_type": "markdown",
   "id": "8c68a84e",
   "metadata": {},
   "source": [
    "2. 智能路径修正测试\n",
    "下面的代码块将尝试读取一个CSV文件。请注意，这里使用的是一个相对路径，脚本应该能自动修正它。"
   ]
  },
  {
   "cell_type": "code",
   "execution_count": 2,
   "id": "33802cad",
   "metadata": {
    "execution": {
     "iopub.execute_input": "2025-10-16T08:10:42.114360Z",
     "iopub.status.busy": "2025-10-16T08:10:42.113354Z",
     "iopub.status.idle": "2025-10-16T08:10:42.992244Z",
     "shell.execute_reply": "2025-10-16T08:10:42.991736Z"
    }
   },
   "outputs": [
    {
     "name": "stdout",
     "output_type": "stream",
     "text": [
      "Successfully loaded data:\n",
      "   id   name  value\n",
      "0   1  alpha    100\n",
      "1   2   beta    200\n",
      "2   3  gamma    300\n"
     ]
    }
   ],
   "source": [
    "import pandas as pd\n",
    "df = pd.read_csv(\"C:/Users/姚弘毅/Desktop/Word to Jupyter/data/sample_data.csv\")\n",
    "print(\"Successfully loaded data:\")\n",
    "print(df.head())"
   ]
  },
  {
   "cell_type": "markdown",
   "id": "458c8eef",
   "metadata": {},
   "source": [
    "3. Notebook 执行与错误处理测试\n",
    "最后，我们测试一下代码的执行和错误处理能力。下面的代码块包含一个故意的错误。"
   ]
  },
  {
   "cell_type": "code",
   "execution_count": 3,
   "id": "91295551",
   "metadata": {
    "execution": {
     "iopub.execute_input": "2025-10-16T08:10:42.997055Z",
     "iopub.status.busy": "2025-10-16T08:10:42.996549Z",
     "iopub.status.idle": "2025-10-16T08:10:43.004827Z",
     "shell.execute_reply": "2025-10-16T08:10:43.003785Z"
    }
   },
   "outputs": [
    {
     "name": "stdout",
     "output_type": "stream",
     "text": [
      "This cell should execute correctly.\n"
     ]
    }
   ],
   "source": [
    "print(\"This cell should execute correctly.\")"
   ]
  },
  {
   "cell_type": "markdown",
   "id": "fe72c500",
   "metadata": {},
   "source": [
    "# This cell will cause a NameError"
   ]
  },
  {
   "cell_type": "code",
   "execution_count": 4,
   "id": "a1da220e",
   "metadata": {
    "execution": {
     "iopub.execute_input": "2025-10-16T08:10:43.009099Z",
     "iopub.status.busy": "2025-10-16T08:10:43.007888Z",
     "iopub.status.idle": "2025-10-16T08:10:43.907169Z",
     "shell.execute_reply": "2025-10-16T08:10:43.906131Z"
    }
   },
   "outputs": [
    {
     "ename": "NameError",
     "evalue": "name 'non_existent_variable' is not defined",
     "output_type": "error",
     "traceback": [
      "\u001b[1;31m---------------------------------------------------------------------------\u001b[0m",
      "\u001b[1;31mNameError\u001b[0m                                 Traceback (most recent call last)",
      "Cell \u001b[1;32mIn[4], line 1\u001b[0m\n\u001b[1;32m----> 1\u001b[0m \u001b[38;5;28mprint\u001b[39m(\u001b[43mnon_existent_variable\u001b[49m)\n\u001b[0;32m      2\u001b[0m \u001b[38;5;28mprint\u001b[39m(\u001b[38;5;124m\"\u001b[39m\u001b[38;5;124mThis cell should still be executed, even if the previous one failed.\u001b[39m\u001b[38;5;124m\"\u001b[39m)\n",
      "\u001b[1;31mNameError\u001b[0m: name 'non_existent_variable' is not defined"
     ]
    }
   ],
   "source": [
    "print(non_existent_variable)\n",
    "print(\"This cell should still be executed, even if the previous one failed.\")"
   ]
  }
 ],
 "metadata": {
  "language_info": {
   "codemirror_mode": {
    "name": "ipython",
    "version": 3
   },
   "file_extension": ".py",
   "mimetype": "text/x-python",
   "name": "python",
   "nbconvert_exporter": "python",
   "pygments_lexer": "ipython3",
   "version": "3.12.0"
  }
 },
 "nbformat": 4,
 "nbformat_minor": 5
}
