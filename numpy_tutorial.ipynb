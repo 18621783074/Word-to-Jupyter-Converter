{
 "cells": [
  {
   "cell_type": "code",
   "execution_count": 1,
   "id": "55b0f75f",
   "metadata": {
    "execution": {
     "iopub.execute_input": "2025-10-16T02:05:34.231177Z",
     "iopub.status.busy": "2025-10-16T02:05:34.231177Z",
     "iopub.status.idle": "2025-10-16T02:05:34.237405Z",
     "shell.execute_reply": "2025-10-16T02:05:34.237405Z"
    }
   },
   "outputs": [],
   "source": [
    "### NumPy 快速入门：数组运算基础"
   ]
  },
  {
   "cell_type": "markdown",
   "id": "2082d5c2",
   "metadata": {},
   "source": [
    "欢迎来到 NumPy 的世界！NumPy (Numerical Python) 是 Python 中用于科学计算的核心库。它提供了一个高性能的多维数组对象 `ndarray`，以及用于处理这些数组的工具。\n",
    "把它想象成 Python 列表的“超级赛亚人”版本，尤其是在处理大量数字时，它的速度和便利性是无与伦比的。\n",
    "这篇文档将带你了解 NumPy 数组最基础、也最重要的运算。\n",
    "**首先，我们需要导入 numpy 库。按照惯例，我们通常给它一个别名 'np'，这样写起来更方便。**\n",
    "[CODE_START]"
   ]
  },
  {
   "cell_type": "code",
   "execution_count": 2,
   "id": "993edf72",
   "metadata": {
    "execution": {
     "iopub.execute_input": "2025-10-16T02:05:34.241034Z",
     "iopub.status.busy": "2025-10-16T02:05:34.241034Z",
     "iopub.status.idle": "2025-10-16T02:05:34.584066Z",
     "shell.execute_reply": "2025-10-16T02:05:34.584066Z"
    }
   },
   "outputs": [
    {
     "name": "stdout",
     "output_type": "stream",
     "text": [
      "NumPy version installed: 2.3.3\n"
     ]
    }
   ],
   "source": [
    "import numpy as np\n",
    "# 我们可以打印出安装的版本号来确认导入成功\n",
    "print(f\"NumPy version installed: {np.__version__}\")"
   ]
  },
  {
   "cell_type": "markdown",
   "id": "8027ec2a",
   "metadata": {},
   "source": [
    "```bash\n",
    "[CODE_END]\n",
    "```"
   ]
  },
  {
   "cell_type": "code",
   "execution_count": 3,
   "id": "6d536af4",
   "metadata": {
    "execution": {
     "iopub.execute_input": "2025-10-16T02:05:34.587818Z",
     "iopub.status.busy": "2025-10-16T02:05:34.587818Z",
     "iopub.status.idle": "2025-10-16T02:05:34.593074Z",
     "shell.execute_reply": "2025-10-16T02:05:34.593074Z"
    }
   },
   "outputs": [],
   "source": [
    "#### 1. 创建 NumPy 数组"
   ]
  },
  {
   "cell_type": "markdown",
   "id": "ca2e2e26",
   "metadata": {},
   "source": [
    "```bash\n",
    "创建数组最常见的方式就是从一个 Python 列表转换。\n",
    "**下面我们将分别从一个简单的一维列表和一个嵌套的二维列表来创建数组。**\n",
    "[CODE_START]\n",
    "```"
   ]
  },
  {
   "cell_type": "code",
   "execution_count": 4,
   "id": "d8f682c9",
   "metadata": {
    "execution": {
     "iopub.execute_input": "2025-10-16T02:05:34.593074Z",
     "iopub.status.busy": "2025-10-16T02:05:34.593074Z",
     "iopub.status.idle": "2025-10-16T02:05:34.604475Z",
     "shell.execute_reply": "2025-10-16T02:05:34.604475Z"
    }
   },
   "outputs": [
    {
     "name": "stdout",
     "output_type": "stream",
     "text": [
      "这是一个一维 NumPy 数组:\n",
      "[10 20 30 40 50]\n",
      "\n",
      "这是一个二维 NumPy 数组（矩阵）:\n",
      "[[1 2 3]\n",
      " [4 5 6]\n",
      " [7 8 9]]\n"
     ]
    }
   ],
   "source": [
    "# 从一个简单的一维 Python 列表创建数组\n",
    "python_list = [10, 20, 30, 40, 50]\n",
    "my_array = np.array(python_list)\n",
    "print(\"这是一个一维 NumPy 数组:\")\n",
    "print(my_array)\n",
    "# 从一个嵌套的列表（二维）创建矩阵\n",
    "python_matrix = [[1, 2, 3], [4, 5, 6], [7, 8, 9]]\n",
    "my_matrix = np.array(python_matrix)\n",
    "print(\"\\n这是一个二维 NumPy 数组（矩阵）:\")\n",
    "print(my_matrix)"
   ]
  },
  {
   "cell_type": "markdown",
   "id": "78b4c032",
   "metadata": {},
   "source": [
    "[CODE_END]\n",
    "NumPy 也提供了很多便捷的函数来快速创建特定类型的数组。\n",
    "**例如 `arange`, `zeros`, 和 `ones`。**\n",
    "[CODE_START]"
   ]
  },
  {
   "cell_type": "code",
   "execution_count": 5,
   "id": "185241b5",
   "metadata": {
    "execution": {
     "iopub.execute_input": "2025-10-16T02:05:34.606485Z",
     "iopub.status.busy": "2025-10-16T02:05:34.606485Z",
     "iopub.status.idle": "2025-10-16T02:05:34.614921Z",
     "shell.execute_reply": "2025-10-16T02:05:34.614921Z"
    }
   },
   "outputs": [
    {
     "name": "stdout",
     "output_type": "stream",
     "text": [
      "使用 arange 创建的数组: [0 2 4 6 8]\n",
      "\n",
      "一个 2x3 的全零矩阵:\n",
      " [[0. 0. 0.]\n",
      " [0. 0. 0.]]\n",
      "\n",
      "一个 3x2 的全一矩阵:\n",
      " [[1. 1.]\n",
      " [1. 1.]\n",
      " [1. 1.]]\n"
     ]
    }
   ],
   "source": [
    "# 使用 np.arange() 创建一个类似 range 的序列\n",
    "# 参数是：起始（包含），结束（不包含），步长\n",
    "range_array = np.arange(0, 10, 2)\n",
    "print(\"使用 arange 创建的数组:\", range_array)\n",
    "# 使用 np.zeros() 创建一个全是0的数组\n",
    "# 需要提供一个元组(tuple)来指定形状，比如 (2, 3) 代表2行3列\n",
    "zeros_array = np.zeros((2, 3))\n",
    "print(\"\\n一个 2x3 的全零矩阵:\\n\", zeros_array)\n",
    "# 使用 np.ones() 创建一个全是1的数组\n",
    "ones_array = np.ones((3, 2))\n",
    "print(\"\\n一个 3x2 的全一矩阵:\\n\", ones_array)"
   ]
  },
  {
   "cell_type": "markdown",
   "id": "a19e5d2e",
   "metadata": {},
   "source": [
    "```bash\n",
    "[CODE_END]\n",
    "```"
   ]
  },
  {
   "cell_type": "code",
   "execution_count": 6,
   "id": "99973bb3",
   "metadata": {
    "execution": {
     "iopub.execute_input": "2025-10-16T02:05:34.617408Z",
     "iopub.status.busy": "2025-10-16T02:05:34.617408Z",
     "iopub.status.idle": "2025-10-16T02:05:34.623922Z",
     "shell.execute_reply": "2025-10-16T02:05:34.623922Z"
    }
   },
   "outputs": [],
   "source": [
    "#### 2. NumPy 的核心优势：向量化运算"
   ]
  },
  {
   "cell_type": "markdown",
   "id": "3c4e2bc4",
   "metadata": {},
   "source": [
    "这就是 NumPy 如此强大的原因！对于数组的数学运算，NumPy 会自动地应用到数组的**每一个元素**上，而不需要我们手写 `for` 循环。这个特性叫做“向量化”(Vectorization)。\n",
    "**来看一个简单的例子，我们想给数组中的每个数字都加上5。**\n",
    "[CODE_START]"
   ]
  },
  {
   "cell_type": "code",
   "execution_count": 7,
   "id": "466c3dc4",
   "metadata": {
    "execution": {
     "iopub.execute_input": "2025-10-16T02:05:34.623922Z",
     "iopub.status.busy": "2025-10-16T02:05:34.623922Z",
     "iopub.status.idle": "2025-10-16T02:05:34.636252Z",
     "shell.execute_reply": "2025-10-16T02:05:34.636252Z"
    }
   },
   "outputs": [
    {
     "name": "stdout",
     "output_type": "stream",
     "text": [
      "原始数组: [1 2 3 4 5]\n",
      "数组 + 5 = [ 6  7  8  9 10]\n",
      "数组 - 1 = [0 1 2 3 4]\n",
      "数组 * 10 = [10 20 30 40 50]\n",
      "数组 / 2 = [0.5 1.  1.5 2.  2.5]\n",
      "数组 ** 2 = [ 1  4  9 16 25]\n"
     ]
    }
   ],
   "source": [
    "# 准备一个数组\n",
    "data = np.arange(1, 6) # 创建数组 [1 2 3 4 5]\n",
    "print(\"原始数组:\", data)\n",
    "# 直接对整个数组进行数学运算\n",
    "print(\"数组 + 5 =\", data + 5)\n",
    "print(\"数组 - 1 =\", data - 1)\n",
    "print(\"数组 * 10 =\", data * 10)\n",
    "print(\"数组 / 2 =\", data / 2)\n",
    "print(\"数组 ** 2 =\", data ** 2) # 每个元素求平方"
   ]
  },
  {
   "cell_type": "markdown",
   "id": "6873baac",
   "metadata": {},
   "source": [
    "```bash\n",
    "[CODE_END]\n",
    "这种向量化运算也适用于两个形状相同的数组之间。\n",
    "[CODE_START]\n",
    "```"
   ]
  },
  {
   "cell_type": "code",
   "execution_count": 8,
   "id": "9a855a57",
   "metadata": {
    "execution": {
     "iopub.execute_input": "2025-10-16T02:05:34.640123Z",
     "iopub.status.busy": "2025-10-16T02:05:34.640123Z",
     "iopub.status.idle": "2025-10-16T02:05:34.646119Z",
     "shell.execute_reply": "2025-10-16T02:05:34.646119Z"
    }
   },
   "outputs": [
    {
     "name": "stdout",
     "output_type": "stream",
     "text": [
      "A + B = [11 22 33 44]\n",
      "A * B = [ 10  40  90 160]\n"
     ]
    }
   ],
   "source": [
    "array_a = np.array([10, 20, 30, 40])\n",
    "array_b = np.array([1, 2, 3, 4])\n",
    "# 两个数组相加，对应位置的元素会相加\n",
    "print(\"A + B =\", array_a + array_b)\n",
    "# 两个数组相乘\n",
    "print(\"A * B =\", array_a * array_b)"
   ]
  },
  {
   "cell_type": "markdown",
   "id": "b4e0e628",
   "metadata": {},
   "source": [
    "```bash\n",
    "[CODE_END]\n",
    "```"
   ]
  },
  {
   "cell_type": "code",
   "execution_count": 9,
   "id": "f954c5f7",
   "metadata": {
    "execution": {
     "iopub.execute_input": "2025-10-16T02:05:34.649150Z",
     "iopub.status.busy": "2025-10-16T02:05:34.649150Z",
     "iopub.status.idle": "2025-10-16T02:05:34.653879Z",
     "shell.execute_reply": "2025-10-16T02:05:34.653879Z"
    }
   },
   "outputs": [],
   "source": [
    "#### 3. 数组索引与切片"
   ]
  },
  {
   "cell_type": "markdown",
   "id": "2968f378",
   "metadata": {},
   "source": [
    "```bash\n",
    "获取数组中的数据和 Python 列表非常相似。\n",
    "[CODE_START]\n",
    "```"
   ]
  },
  {
   "cell_type": "code",
   "execution_count": 10,
   "id": "c1da5eb4",
   "metadata": {
    "execution": {
     "iopub.execute_input": "2025-10-16T02:05:34.653879Z",
     "iopub.status.busy": "2025-10-16T02:05:34.653879Z",
     "iopub.status.idle": "2025-10-16T02:05:34.666732Z",
     "shell.execute_reply": "2025-10-16T02:05:34.666732Z"
    }
   },
   "outputs": [
    {
     "name": "stdout",
     "output_type": "stream",
     "text": [
      "测试数组: [100 101 102 103 104 105 106 107 108 109]\n",
      "索引为 3 的元素: 103\n",
      "从 2 到 5 的切片: [102 103 104]\n",
      "\n",
      "测试矩阵:\n",
      " [[1 2 3]\n",
      " [4 5 6]\n",
      " [7 8 9]]\n",
      "第 1 行, 第 2 列的元素: 6\n",
      "第 0 行: [1 2 3]\n",
      "第 1 列: [2 5 8]\n"
     ]
    }
   ],
   "source": [
    "# 创建一个测试数组\n",
    "test_array = np.arange(100, 110) # [100, 101, ..., 109]\n",
    "print(\"测试数组:\", test_array)\n",
    "# 获取索引为 3 的元素\n",
    "print(\"索引为 3 的元素:\", test_array[3])\n",
    "# 获取索引从 2 到 5 (不包含5) 的片段\n",
    "print(\"从 2 到 5 的切片:\", test_array[2:5])\n",
    "# 对于多维数组，用逗号分隔不同维度的索引\n",
    "matrix = np.array([[1, 2, 3], [4, 5, 6], [7, 8, 9]])\n",
    "print(\"\\n测试矩阵:\\n\", matrix)\n",
    "# 获取第1行，第2列的元素（行和列都从0开始计数）\n",
    "# 所以是数字 6\n",
    "print(\"第 1 行, 第 2 列的元素:\", matrix[1, 2])\n",
    "# 获取整个第0行\n",
    "print(\"第 0 行:\", matrix[0, :])\n",
    "# 获取整个第1列\n",
    "print(\"第 1 列:\", matrix[:, 1])"
   ]
  },
  {
   "cell_type": "markdown",
   "id": "8df3e8a8",
   "metadata": {},
   "source": [
    "```bash\n",
    "[CODE_END]\n",
    "```"
   ]
  },
  {
   "cell_type": "code",
   "execution_count": 11,
   "id": "54590837",
   "metadata": {
    "execution": {
     "iopub.execute_input": "2025-10-16T02:05:34.666732Z",
     "iopub.status.busy": "2025-10-16T02:05:34.666732Z",
     "iopub.status.idle": "2025-10-16T02:05:34.674736Z",
     "shell.execute_reply": "2025-10-16T02:05:34.674736Z"
    }
   },
   "outputs": [],
   "source": [
    "#### 4. 常用统计函数"
   ]
  },
  {
   "cell_type": "markdown",
   "id": "8fd06b71",
   "metadata": {},
   "source": [
    "```bash\n",
    "NumPy 提供了大量快速的统计函数。\n",
    "[CODE_START]\n",
    "```"
   ]
  },
  {
   "cell_type": "code",
   "execution_count": 12,
   "id": "22010922",
   "metadata": {
    "execution": {
     "iopub.execute_input": "2025-10-16T02:05:34.674736Z",
     "iopub.status.busy": "2025-10-16T02:05:34.674736Z",
     "iopub.status.idle": "2025-10-16T02:05:34.740475Z",
     "shell.execute_reply": "2025-10-16T02:05:34.740475Z"
    }
   },
   "outputs": [
    {
     "name": "stdout",
     "output_type": "stream",
     "text": [
      "用于统计的随机数组: [71 92  7 31 99 31 29 89 30 74]\n",
      "总和: 553\n",
      "平均值: 55.3\n",
      "最大值: 99\n",
      "最小值: 7\n"
     ]
    }
   ],
   "source": [
    "# 创建一个包含随机数的数组用于统计\n",
    "# np.random.randint(low, high, size)\n",
    "stats_array = np.random.randint(0, 100, 10) # 10个0到99之间的随机整数\n",
    "print(\"用于统计的随机数组:\", stats_array)\n",
    "# 计算总和\n",
    "print(\"总和:\", stats_array.sum()) # 或者 np.sum(stats_array)\n",
    "# 计算平均值\n",
    "print(\"平均值:\", stats_array.mean())\n",
    "# 找出最大值\n",
    "print(\"最大值:\", stats_array.max())\n",
    "# 找出最小值\n",
    "print(\"最小值:\", stats_array.min())"
   ]
  },
  {
   "cell_type": "markdown",
   "id": "7dbb90ec",
   "metadata": {},
   "source": [
    "[CODE_END]\n",
    "恭喜你！你已经掌握了 NumPy 最核心的基础知识。利用这些简单的操作，已经可以解决许多数据分析和科学计算中的问题了。继续探索，你会发现 NumPy 更多的强大功能！"
   ]
  }
 ],
 "metadata": {
  "language_info": {
   "codemirror_mode": {
    "name": "ipython",
    "version": 3
   },
   "file_extension": ".py",
   "mimetype": "text/x-python",
   "name": "python",
   "nbconvert_exporter": "python",
   "pygments_lexer": "ipython3",
   "version": "3.12.0"
  }
 },
 "nbformat": 4,
 "nbformat_minor": 5
}
