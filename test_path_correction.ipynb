{
 "cells": [
  {
   "cell_type": "markdown",
   "id": "44d778b6",
   "metadata": {},
   "source": [
    "智能路径修正功能测试\n",
    "这是一个用于测试Word to Jupyter转换器智能路径修正功能的示例文档。\n",
    "下面的代码块包含一个相对路径，转换器应该能自动找到并修正它。"
   ]
  },
  {
   "cell_type": "code",
   "execution_count": 1,
   "id": "bc2f4e74",
   "metadata": {
    "execution": {
     "iopub.execute_input": "2025-10-20T01:49:56.102465Z",
     "iopub.status.busy": "2025-10-20T01:49:56.102465Z",
     "iopub.status.idle": "2025-10-20T01:49:56.742325Z",
     "shell.execute_reply": "2025-10-20T01:49:56.742325Z"
    }
   },
   "outputs": [
    {
     "name": "stdout",
     "output_type": "stream",
     "text": [
      "成功读取数据：\n",
      "   ID     Name  Score\n",
      "0   1    Alice     88\n",
      "1   2      Bob     92\n",
      "2   3  Charlie     75\n"
     ]
    }
   ],
   "source": [
    "import pandas as pd\n",
    "import numpy as np\n",
    "# 程序会自动查找并修正下面的文件路径\n",
    "df = pd.read_csv('C:/Users/姚弘毅/Desktop/Word to Jupyter/data/sample_data.csv')\n",
    "print('成功读取数据：')\n",
    "print(df.head())"
   ]
  },
  {
   "cell_type": "markdown",
   "id": "171f008b",
   "metadata": {},
   "source": [
    "如果转换成功，生成的Jupyter Notebook应该能够直接运行并打印出CSV文件的头部数据。"
   ]
  }
 ],
 "metadata": {
  "language_info": {
   "codemirror_mode": {
    "name": "ipython",
    "version": 3
   },
   "file_extension": ".py",
   "mimetype": "text/x-python",
   "name": "python",
   "nbconvert_exporter": "python",
   "pygments_lexer": "ipython3",
   "version": "3.12.0"
  }
 },
 "nbformat": 4,
 "nbformat_minor": 5
}
